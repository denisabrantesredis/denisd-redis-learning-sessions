{
  "cells": [
    {
      "cell_type": "markdown",
      "metadata": {
        "id": "N09X5wKjBIsT"
      },
      "source": [
        "<a href=\"https://colab.research.google.com/github/denisabrantesredis/denisd-redis-learning-sessions/blob/main/Search/Search.ipynb\" target=\"_newt\">\n",
        "<img src=\"https://colab.research.google.com/assets/colab-badge.svg\" alt=\"Open In Colab\"/>\n",
        "</a>"
      ]
    },
    {
      "cell_type": "markdown",
      "metadata": {
        "id": "7Tk5ymdLBTeq"
      },
      "source": [
        "<div style=\"display:flex;width=100%;\">\n",
        "<img src=\"https://redis.io/wp-content/uploads/2024/04/Logotype.svg?auto=webp&quality=85,75&width=120\" alt=\"Redis\" width=\"90\"/>\n",
        "&nbsp;&nbsp;&nbsp;&nbsp;&nbsp;&nbsp;&nbsp;&nbsp;&nbsp;\n",
        "</div>\n",
        "\n",
        "# Redis Learning Session - Search"
      ]
    },
    {
      "cell_type": "markdown",
      "metadata": {},
      "source": [
        "<img src=\"https://github.com/denisabrantesredis/denisd-redis-learning-sessions/blob/main/Search/_assets/images/banner.png?raw=true\" alt=\"Redis Data Types\"/>"
      ]
    },
    {
      "cell_type": "markdown",
      "metadata": {
        "id": "y8w5OAHNOlFf"
      },
      "source": [
        "[Try an online search demo application](https://ecommerce.redisventures.com//)\n",
        "\n",
        "In this notebook, we will explore the different types of Search provided by Redis."
      ]
    },
    {
      "cell_type": "markdown",
      "metadata": {
        "id": "ENspmGoTR6tq"
      },
      "source": [
        "## Installing the Pre-Reqs"
      ]
    },
    {
      "cell_type": "code",
      "execution_count": null,
      "metadata": {
        "id": "WFmBBQ0bBFym"
      },
      "outputs": [],
      "source": [
        "!pip install -q folium\n",
        "!pip install -q pandas\n",
        "!pip install -q redis\n",
        "!pip install -q unzip"
      ]
    },
    {
      "cell_type": "markdown",
      "metadata": {},
      "source": [
        "## Installing Redis Stack Locally\n",
        "If you are not using Redis Cloud as a database, uncomment and run the code below to install Redis locally. Then set your connection to 127.0.0.1"
      ]
    },
    {
      "cell_type": "code",
      "execution_count": null,
      "metadata": {},
      "outputs": [],
      "source": [
        "# %%sh\n",
        "# curl -fsSL https://packages.redis.io/gpg | sudo gpg --dearmor -o /usr/share/keyrings/redis-archive-keyring.gpg \n",
        "# echo \"deb [signed-by=/usr/share/keyrings/redis-archive-keyring.gpg] https://packages.redis.io/deb $(lsb_release -cs) main\" | sudo tee /etc/apt/sources.list.d/redis.list \n",
        "# sudo apt-get update  > /dev/null 2>&1\n",
        "# sudo apt-get install redis-stack-server  > /dev/null 2>&1\n",
        "# redis-stack-server --daemonize yes"
      ]
    },
    {
      "cell_type": "markdown",
      "metadata": {},
      "source": [
        "## Copying and Unzipping Lab Files"
      ]
    },
    {
      "cell_type": "code",
      "execution_count": null,
      "metadata": {},
      "outputs": [],
      "source": [
        "import os"
      ]
    },
    {
      "cell_type": "code",
      "execution_count": null,
      "metadata": {},
      "outputs": [],
      "source": [
        "if not os.path.exists(\"lab_assets.zip\"):\n",
        "  !wget https://denisd-bucket-p.s3.us-east-1.amazonaws.com/lab_assets/search/lab_assets.zip\n",
        "  !unzip lab_assets.zip"
      ]
    },
    {
      "cell_type": "markdown",
      "metadata": {},
      "source": [
        "## Connecting to Redis"
      ]
    },
    {
      "cell_type": "code",
      "execution_count": null,
      "metadata": {},
      "outputs": [],
      "source": [
        "import redis\n",
        "from google.colab import userdata"
      ]
    },
    {
      "cell_type": "markdown",
      "metadata": {},
      "source": [
        "#### Setup the Connection String"
      ]
    },
    {
      "cell_type": "markdown",
      "metadata": {},
      "source": [
        "<img src=\"https://github.com/denisabrantesredis/denisd-redis-learning-sessions/blob/main/Search/_assets/images/callout_secrets.png?raw=true\" alt=\"Callout - Use Google Colab secrets instead\"/>"
      ]
    },
    {
      "cell_type": "code",
      "execution_count": null,
      "metadata": {},
      "outputs": [],
      "source": [
        "try:\n",
        "  REDIS_HOST = userdata.get('REDIS_HOST')\n",
        "except:\n",
        "  REDIS_HOST=\"127.0.0.1\"\n",
        "\n",
        "try:\n",
        "  REDIS_PORT = userdata.get('REDIS_PORT')\n",
        "except:\n",
        "  REDIS_PORT=6379\n",
        "\n",
        "try:\n",
        "  REDIS_PASSWORD = userdata.get('REDIS_PASSWORD')\n",
        "except:\n",
        "  REDIS_PASSWORD=\"\"\n",
        "\n",
        "REDIS_URL = f\"redis://default:{REDIS_PASSWORD}@{REDIS_HOST}:{REDIS_PORT}\""
      ]
    },
    {
      "cell_type": "markdown",
      "metadata": {},
      "source": [
        "#### Testing the Connection to Redis"
      ]
    },
    {
      "cell_type": "markdown",
      "metadata": {},
      "source": [
        "<img src=\"https://github.com/denisabrantesredis/denisd-redis-learning-sessions/blob/main/Search/_assets/images/callout_connection.png?raw=true\" alt=\"Callout - Make sure connection works\"/>"
      ]
    },
    {
      "cell_type": "code",
      "execution_count": null,
      "metadata": {},
      "outputs": [],
      "source": [
        "r = redis.from_url(REDIS_URL, decode_responses=True)\n",
        "\n",
        "if r.ping():\n",
        "    print(\"Connection successful!\")\n",
        "else:\n",
        "    print(\"Connection issue!\")"
      ]
    },
    {
      "cell_type": "markdown",
      "metadata": {
        "id": "L7_A4sOeDfqt"
      },
      "source": [
        "## Geospatial"
      ]
    },
    {
      "cell_type": "markdown",
      "metadata": {
        "id": "oQ6RwklAct5K"
      },
      "source": [
        "Geospatial data is supported in Redis as a native data type, and as part of our native JSON support. In this lab, we will explore both options.\n",
        "\n",
        "Redis uses coordinate points to represent geospatial locations. You can store individual points but you can also use a set of points to define a polygon shape (the shape of a town, for example). You can query several types of interactions between points and shapes, such as whether a point lies within a shape or whether two shapes overlap."
      ]
    },
    {
      "cell_type": "markdown",
      "metadata": {},
      "source": [
        "### Part 1 - Native Geo data type"
      ]
    },
    {
      "cell_type": "code",
      "execution_count": null,
      "metadata": {
        "id": "5Ko4lH56BFs3"
      },
      "outputs": [],
      "source": [
        "import pandas as pd\n",
        "import json\n",
        "import folium"
      ]
    },
    {
      "cell_type": "markdown",
      "metadata": {},
      "source": [
        "#### Load Data\n",
        "\n",
        "For this lab, we will use a dataset containing Airbnb listings and metrics in New York City for January, 2024. Each listing contains coordinates for the location, which is what we are interested in for this lab."
      ]
    },
    {
      "cell_type": "code",
      "execution_count": null,
      "metadata": {
        "id": "CD3zIcq6BFpx"
      },
      "outputs": [],
      "source": [
        "dataset = pd.read_csv('./new_york_listings_2024.csv')\n",
        "print(len(dataset))\n",
        "dataset.head()"
      ]
    },
    {
      "cell_type": "markdown",
      "metadata": {},
      "source": [
        "#### Understand the distribution of the Room_Type attribute"
      ]
    },
    {
      "cell_type": "code",
      "execution_count": null,
      "metadata": {},
      "outputs": [],
      "source": [
        "dataset['room_type'].hist()"
      ]
    },
    {
      "cell_type": "markdown",
      "metadata": {},
      "source": [
        "#### Create a new Dataframe only with Hotel Room records"
      ]
    },
    {
      "cell_type": "code",
      "execution_count": null,
      "metadata": {},
      "outputs": [],
      "source": [
        "hotel_rooms = dataset[dataset['room_type'] == 'Hotel room']\n",
        "print(len(hotel_rooms))\n",
        "hotel_rooms.head()"
      ]
    },
    {
      "cell_type": "markdown",
      "metadata": {},
      "source": [
        "#### Save data to Redis\n",
        "\n",
        "We will use a pipeline to write data to Redis. The pipeline will gather all commands, and then send the list of commands to the server, where they are executed in order. The pipeline then returns a list containing the response for each command."
      ]
    },
    {
      "cell_type": "code",
      "execution_count": null,
      "metadata": {},
      "outputs": [],
      "source": [
        "pipe = r.pipeline(transaction=False)\n",
        "keyname = \"geo:nyc:hotel_rooms\"\n",
        "\n",
        "for index, row in hotel_rooms.iterrows():\n",
        "      lat = row['latitude']\n",
        "      lon = row['longitude']\n",
        "      id = row['id']\n",
        "      pipe.geoadd(keyname, [lon, lat, id])\n",
        "results = pipe.execute()\n",
        "print(len(results))"
      ]
    },
    {
      "cell_type": "markdown",
      "metadata": {},
      "source": [
        "&nbsp;\n",
        "\n",
        "&nbsp;"
      ]
    },
    {
      "cell_type": "markdown",
      "metadata": {},
      "source": [
        "<img src=\"https://github.com/denisabrantesredis/denisd-redis-learning-sessions/blob/main/Search/_assets/images/callout_insight.png?raw=true\" alt=\"Callout - Check Redis Insight\"/>"
      ]
    },
    {
      "cell_type": "markdown",
      "metadata": {},
      "source": [
        "Open Redis Insight and confirm that the geo key was generated. There should be only one key, called `geo:nyc:hotel_rooms`, which contains all the different locations from the DataFrame.\n",
        "\n",
        "&nbsp;\n",
        "\n",
        "&nbsp;"
      ]
    },
    {
      "cell_type": "markdown",
      "metadata": {},
      "source": [
        "#### Search for Hotel Rooms near the Empire State Building \n",
        "\n",
        "Next, we will search for Hotel Rooms within 850 meters of the Empire State Building, which is located at coordinates 40.7491301,-73.9924523. You can change the "
      ]
    },
    {
      "cell_type": "markdown",
      "metadata": {},
      "source": [
        "<img src=\"https://github.com/denisabrantesredis/denisd-redis-learning-sessions/blob/main/Search/_assets/images/callout_georadius.png?raw=true\" alt=\"Callout - Change Search Radius\"/>"
      ]
    },
    {
      "cell_type": "code",
      "execution_count": null,
      "metadata": {},
      "outputs": [],
      "source": [
        "esb_lat = 40.748534150023396\n",
        "esb_lon = -73.98568519949094\n",
        "radius = 850"
      ]
    },
    {
      "cell_type": "markdown",
      "metadata": {},
      "source": [
        "#### Run the search"
      ]
    },
    {
      "cell_type": "code",
      "execution_count": null,
      "metadata": {},
      "outputs": [],
      "source": [
        "rooms = r.georadius(keyname, esb_lon, esb_lat, radius, 'm', withdist=True, withcoord=True)\n",
        "len(rooms)"
      ]
    },
    {
      "cell_type": "markdown",
      "metadata": {},
      "source": [
        "#### Render a map to see results and add the search results to the map"
      ]
    },
    {
      "cell_type": "code",
      "execution_count": null,
      "metadata": {},
      "outputs": [],
      "source": [
        "map1 = folium.Map(location=[esb_lat, esb_lon], zoom_start=15, tiles=\"Cartodb Positron\")\n",
        "folium.Marker([esb_lat, esb_lon], popup=\"Empire State Building\", icon=folium.Icon(color='blue')).add_to(map1)\n",
        "folium.Circle(\n",
        "    location=[esb_lat, esb_lon], radius=radius, color=\"cornflowerblue\", weight=1, fill_opacity=0.3, opacity=1, stroke=False,\n",
        "    fill=True, popup=\"{} meters\".format(radius), tooltip=\"Search Radius\"\n",
        ").add_to(map1)\n",
        "\n",
        "for room in rooms:\n",
        "    folium.Marker([room[2][1], room[2][0]], popup=f\"{room[0]} {round(room[1],2)} meters\", icon=folium.Icon(color='red')).add_to(map1)"
      ]
    },
    {
      "cell_type": "code",
      "execution_count": null,
      "metadata": {},
      "outputs": [],
      "source": [
        "map1"
      ]
    },
    {
      "cell_type": "markdown",
      "metadata": {},
      "source": [
        "### Part 2 - Geospatial data with JSON"
      ]
    },
    {
      "cell_type": "code",
      "execution_count": null,
      "metadata": {},
      "outputs": [],
      "source": [
        "from redis.commands.search.field import GeoShapeField\n",
        "from redis.commands.search.field import TextField\n",
        "from redis.commands.search.field import TagField\n",
        "from redis.commands.search.field import NumericField\n",
        "from redis.commands.search.query import Query\n",
        "from redis.commands.search.index_definition import IndexDefinition, IndexType"
      ]
    },
    {
      "cell_type": "markdown",
      "metadata": {},
      "source": [
        "#### Save JSON data to Redis\n",
        "\n",
        "In this step, we will save the same data from before, but as JSON format, which will allow us to capture more attributes, not just the coordinates. Notice how the `location` attribute is saved as a `POINT()` record, with longitude and latitude. We need this to run our polygon search."
      ]
    },
    {
      "cell_type": "code",
      "execution_count": null,
      "metadata": {},
      "outputs": [],
      "source": [
        "for index, row in hotel_rooms.iterrows():\n",
        "      id = row['id']\n",
        "      keyname = f\"geo:nyc:hotel_rooms:{id}\"\n",
        "      value = {\n",
        "            'id': id,\n",
        "            'location': f\"POINT ({row['longitude']} {row['latitude']})\",\n",
        "            'latitude': row['latitude'],\n",
        "            'longitude': row['longitude'],\n",
        "            'host_name' : row['host_name'],\n",
        "            'neighbourhood': row['neighbourhood'],\n",
        "            'price': row['price'],\n",
        "            'reviews': row['number_of_reviews'],\n",
        "            'rating': row['rating'],\n",
        "            'bedrooms': row['bedrooms']\n",
        "      }\n",
        "      pipe.json().set(keyname, \"$\", value)\n",
        "result = pipe.execute()\n",
        "len(result)"
      ]
    },
    {
      "cell_type": "markdown",
      "metadata": {},
      "source": [
        "#### Create Search Index\n",
        "\n",
        "JSON data needs to be indexed for search. This command will create the search index for the location attribute (which includes the latitude and longitude information)."
      ]
    },
    {
      "cell_type": "code",
      "execution_count": null,
      "metadata": {},
      "outputs": [],
      "source": [
        "geo_schema = (GeoShapeField(\"$.location\", as_name=\"location\"))\n",
        "\n",
        "try:\n",
        "    r.ft(\"idx:rooms\").drop_index()\n",
        "except:\n",
        "    print(\"Index does not exist\")\n",
        "\n",
        "try:\n",
        "  geo_index_create_result = r.ft(\"idx:rooms\").create_index(\n",
        "    geo_schema,\n",
        "    definition=IndexDefinition(\n",
        "        prefix=[\"geo:nyc:hotel_rooms:\"], index_type=IndexType.JSON\n",
        "    )\n",
        "  )\n",
        "  print(geo_index_create_result)\n",
        "\n",
        "except Exception as e:\n",
        "  print(e)\n"
      ]
    },
    {
      "cell_type": "markdown",
      "metadata": {},
      "source": [
        "#### Check the index\n",
        "\n",
        "Make sure the index is 100% done, and the total of document is > 0."
      ]
    },
    {
      "cell_type": "code",
      "execution_count": null,
      "metadata": {},
      "outputs": [],
      "source": [
        "info = r.ft('idx:rooms').info()\n",
        "print(f\" Percent Indexed: {int(info['percent_indexed'])*100}\")\n",
        "print(f\" Total Documents: {info['num_docs']}\")"
      ]
    },
    {
      "cell_type": "markdown",
      "metadata": {},
      "source": [
        "#### Run Search"
      ]
    },
    {
      "cell_type": "code",
      "execution_count": null,
      "metadata": {},
      "outputs": [],
      "source": [
        "shape = \"POLYGON ((-73.9792654 40.7545612, -73.9928266 40.7549838, -73.9988777 40.7489044, -73.9946291 40.7390201, -73.9805099 40.7385324, -73.9746305 40.7464335, -73.9792654 40.7545612))\"\n",
        "params_dict = {\"esb\": shape}\n",
        "\n",
        "q = Query(\"@location:[WITHIN $esb]\").dialect(3)\n",
        "res = r.ft(\"idx:rooms\").search(q, query_params=params_dict).docs\n",
        "print(len(res))"
      ]
    },
    {
      "cell_type": "markdown",
      "metadata": {},
      "source": [
        "### Equivalent Redis Insight command\n",
        "\n",
        "```\n",
        "    FT.SEARCH idx:rooms \"(@location:[WITHIN $qshape])\" \n",
        "        PARAMS 2 qshape \"POLYGON ((-73.9792654 40.7545612, -73.9928266 40.7549838, -73.9988777 40.7489044, -73.9946291 40.7390201, -73.9805099 40.7385324, -73.9746305 40.7464335, -73.9792654 40.7545612))\" \n",
        "        RETURN 1 name \n",
        "        DIALECT 2\n",
        "```\n",
        "\n",
        "&nbsp;"
      ]
    },
    {
      "cell_type": "markdown",
      "metadata": {},
      "source": [
        "#### Render a new map with the polygon and the results"
      ]
    },
    {
      "cell_type": "code",
      "execution_count": null,
      "metadata": {},
      "outputs": [],
      "source": [
        "map2 = folium.Map(location=[esb_lat, esb_lon], zoom_start=15, tiles=\"Cartodb Positron\")\n",
        "folium.Marker([esb_lat, esb_lon], popup=\"Empire State Building\", icon=folium.Icon(color='blue')).add_to(map2)\n",
        "\n",
        "locations = [[40.7545612, -73.9792654], [40.7549838, -73.9928266], [40.7489044, -73.9988777], [40.7390201, -73.9946291], [40.7385324, -73.9805099], [40.7464335, -73.9746305], [40.7545612, -73.9792654]]\n",
        "\n",
        "folium.Polygon(locations=locations, color=\"cornflowerblue\", weight=1, fill_opacity=0.3, opacity=1, stroke=False, fill_color=\"maroon\", fill=True, popup=\"Polygon\", tooltip=\"Click me!\",).add_to(map2)"
      ]
    },
    {
      "cell_type": "code",
      "execution_count": null,
      "metadata": {},
      "outputs": [],
      "source": [
        "for room in res:\n",
        "    room_json = json.loads(room.json)\n",
        "    lat = room_json[0]['latitude']\n",
        "    lon = room_json[0]['longitude']\n",
        "    host_name = room_json[0]['host_name']\n",
        "    price = room_json[0]['price']\n",
        "    folium.Marker([lat, lon], popup=f\"{host_name} ${price}\", icon=folium.Icon(color='red')).add_to(map2)"
      ]
    },
    {
      "cell_type": "code",
      "execution_count": null,
      "metadata": {},
      "outputs": [],
      "source": [
        "map2"
      ]
    },
    {
      "cell_type": "markdown",
      "metadata": {
        "id": "F8Cq6TN1DrIk"
      },
      "source": [
        "## Streams"
      ]
    },
    {
      "cell_type": "markdown",
      "metadata": {
        "id": "33RhGtaaduow"
      },
      "source": [
        "A Redis stream is a data structure that acts like an append-only log but also implements several operations to overcome some of the limits of a typical append-only log. These include random access in O(1) time and complex consumption strategies, such as consumer groups. You can use streams to record and simultaneously syndicate events in real time. Examples of Redis stream use cases include:\n",
        "\n",
        "- Event sourcing (e.g., tracking user actions, clicks, etc.)\n",
        "- Sensor monitoring (e.g., readings from devices in the field)\n",
        "- Notifications (e.g., storing a record of each user's notifications in a separate stream)\n",
        "\n",
        "\n",
        "In this example, we will load IoT data from temperature monitoring devices as streams, and look for data within a certain time range. "
      ]
    },
    {
      "cell_type": "code",
      "execution_count": null,
      "metadata": {
        "id": "NHd7FtUPBFlE"
      },
      "outputs": [],
      "source": [
        "from datetime import datetime, timedelta\n",
        "import pytz"
      ]
    },
    {
      "cell_type": "markdown",
      "metadata": {},
      "source": [
        "#### Load data from the CSV file"
      ]
    },
    {
      "cell_type": "code",
      "execution_count": null,
      "metadata": {
        "id": "jvoJfpupBFf2"
      },
      "outputs": [],
      "source": [
        "iot_ds = pd.read_csv('iot.csv')\n",
        "print(len(iot_ds))\n",
        "iot_ds.head()"
      ]
    },
    {
      "cell_type": "markdown",
      "metadata": {},
      "source": [
        "### Using a pipeline to save data to Redis\n",
        "\n",
        "All messages will be under a single stream (key), named `stream:iot`. The pipeline will gather all commands and execute them once against Redis."
      ]
    },
    {
      "cell_type": "code",
      "execution_count": null,
      "metadata": {},
      "outputs": [],
      "source": [
        "keyname = \"streams:iot\"\n",
        "for index, row in iot_ds.iterrows():\n",
        "      value = {\n",
        "            'id': row['id'],\n",
        "            'room': row['room'],\n",
        "            'date': row['date'],\n",
        "            'temp' : row['temp'],\n",
        "            'location': row['location'],\n",
        "            'timestamp': row['timestamp']\n",
        "      }\n",
        "      pipe.xadd(keyname, id=row['timestamp'], fields=value)\n",
        "result = pipe.execute()\n",
        "len(result)"
      ]
    },
    {
      "cell_type": "markdown",
      "metadata": {},
      "source": [
        "#### Getting the first and last timestamps - format DAY/MONTH/YEAR"
      ]
    },
    {
      "cell_type": "code",
      "execution_count": null,
      "metadata": {},
      "outputs": [],
      "source": [
        "print(iot_ds.iloc[0]['date'])\n",
        "print(iot_ds.iloc[len(iot_ds)-1]['date'])"
      ]
    },
    {
      "cell_type": "markdown",
      "metadata": {
        "id": "MZkC5BMHEBit"
      },
      "source": [
        "#### Define the time range you want to search on"
      ]
    },
    {
      "cell_type": "markdown",
      "metadata": {
        "id": "mp6tj60UeOcc"
      },
      "source": [
        "<img src=\"https://github.com/denisabrantesredis/denisd-redis-learning-sessions/blob/main/Search/_assets/images/callout_streams.png?raw=true\" alt=\"Callout - Change Time Range\"/>"
      ]
    },
    {
      "cell_type": "code",
      "execution_count": null,
      "metadata": {
        "id": "k-oiUVRLD3pm"
      },
      "outputs": [],
      "source": [
        "start_date = \"01-04-2024 12:00\"\n",
        "end_date = \"01-04-2024 12:30\""
      ]
    },
    {
      "cell_type": "code",
      "execution_count": null,
      "metadata": {
        "id": "dJdvZR-FEIcE"
      },
      "outputs": [],
      "source": [
        "datetime_format = \"%d-%m-%Y %H:%M\"\n",
        "local_tz = pytz.timezone('America/Chicago')\n",
        "\n",
        "local_start = datetime.strptime(start_date, datetime_format)\n",
        "utc_start = local_tz.localize(local_start)\n",
        "first_ts = utc_start.timestamp()\n",
        "\n",
        "local_end = datetime.strptime(end_date, datetime_format)\n",
        "utc_end = local_tz.localize(local_end)\n",
        "last_ts = utc_end.timestamp()"
      ]
    },
    {
      "cell_type": "markdown",
      "metadata": {},
      "source": [
        "#### Running the Search"
      ]
    },
    {
      "cell_type": "code",
      "execution_count": null,
      "metadata": {},
      "outputs": [],
      "source": [
        "messages = r.xrange(\"streams:iot\", int(first_ts), int(last_ts))\n",
        "for message in messages:\n",
        "  print(message)"
      ]
    },
    {
      "cell_type": "markdown",
      "metadata": {},
      "source": [
        "<img src=\"https://github.com/denisabrantesredis/denisd-redis-learning-sessions/blob/main/Search/_assets/images/callout_insight.png?raw=true\" alt=\"Callout - Check Redis Insight\"/>"
      ]
    },
    {
      "cell_type": "markdown",
      "metadata": {},
      "source": [
        "You can use Redis Insight to check on the stream data. There should be a key called `streams:iot` with all 97,546 messages in it. The UI will show some of the messages, and you can run the same search in the Workbench, using this command:\n",
        "\n",
        "&nbsp;\n",
        "\n",
        "```\n",
        "    XRANGE streams:iot 1711972800 1711974600\n",
        "```\n",
        "\n",
        "&nbsp;"
      ]
    },
    {
      "cell_type": "markdown",
      "metadata": {
        "id": "_j-_YodJFyZH"
      },
      "source": [
        "## Time Series"
      ]
    },
    {
      "cell_type": "markdown",
      "metadata": {
        "id": "HGd2WQ9LjK_M"
      },
      "source": [
        "The Redis time series data type lets you store real-valued data points along with the time they were collected. You can combine the values from a selection of time series and query them by time or value range. You can also compute aggregate functions of the data over periods of time and create new time series from the results. When you create a time series, you can specify a maximum retention period for the data, relative to the last reported timestamp, to prevent the time series from growing indefinitely.\n",
        "\n",
        "In this lab, we will load stock data from a few different companies and search for data within a specific time range. The stock data contains the Open and Close values with one data point per day."
      ]
    },
    {
      "cell_type": "markdown",
      "metadata": {
        "id": "UdCicFUVkb-p"
      },
      "source": [
        "### Importing Required Packages"
      ]
    },
    {
      "cell_type": "code",
      "execution_count": null,
      "metadata": {
        "id": "T7tb6ImZF247"
      },
      "outputs": [],
      "source": [
        "import datetime as dt\n",
        "import matplotlib.pyplot as plt\n",
        "import matplotlib.dates as mdates"
      ]
    },
    {
      "cell_type": "markdown",
      "metadata": {
        "id": "Oq-_RvOKmVr7"
      },
      "source": [
        "#### Load data from CSV file"
      ]
    },
    {
      "cell_type": "code",
      "execution_count": null,
      "metadata": {
        "id": "C0H9huxKHI4q"
      },
      "outputs": [],
      "source": [
        "ts_df = pd.read_csv('timeseries.csv')\n",
        "ts_df = ts_df.sort_values(by='Ticker')\n",
        "print(len(ts_df))\n",
        "ts_df.head()"
      ]
    },
    {
      "cell_type": "markdown",
      "metadata": {
        "id": "P6Y3Fy_JnSm5"
      },
      "source": [
        "#### Time Series data with the python client is accessed through the `r.ts()` object. It has its own pipeline."
      ]
    },
    {
      "cell_type": "code",
      "execution_count": null,
      "metadata": {
        "id": "VLUdjv5KHOpJ"
      },
      "outputs": [],
      "source": [
        "redis_ts = r.ts()\n",
        "\n",
        "datetime_format = \"%Y-%m-%d %H:%M:%S%z\"\n",
        "local_tz = pytz.timezone('America/New_York')\n",
        "\n",
        "keyprefix = \"timeseries:stock\"\n",
        "pipets = redis_ts.pipeline(transaction=False)"
      ]
    },
    {
      "cell_type": "markdown",
      "metadata": {
        "id": "i_j8oVZIzgvv"
      },
      "source": [
        "Get a list of all stock ticks in the file:"
      ]
    },
    {
      "cell_type": "code",
      "execution_count": null,
      "metadata": {
        "id": "9g-MMhPNze4Z"
      },
      "outputs": [],
      "source": [
        "ticker_list = ts_df['Ticker'].unique()\n",
        "ticker_list"
      ]
    },
    {
      "cell_type": "markdown",
      "metadata": {},
      "source": [
        "Each time series (key) will hold the values of one metric over time. The CSV file contains 2 metrics (Open and Close values) for 5 different stock tickers, which means that we will need to create 10 keys, 2 for each ticker.\n",
        "\n",
        "The loop will first create 2 keys for each ticker in a try statement (because the keys can only be created once), then it will add the Open and Close values to those keys. We will use labels to filter the keys during the search:\n",
        "\n",
        "- Ticker will allow us to filter the search by company (\"give me all Apple stock data, etc)\n",
        "- Type will allow us to select the type of metric (\"give me all Open values for Dec 1st, 2015\")"
      ]
    },
    {
      "cell_type": "code",
      "execution_count": null,
      "metadata": {},
      "outputs": [],
      "source": [
        "for ticker in ticker_list:\n",
        "    df_loop = ts_df[ts_df['Ticker'] == ticker]\n",
        "    print(f\"Creating Keys for Ticker {ticker} : {len(df_loop)} total rows\")\n",
        "\n",
        "    label_open = {'TICKER' : ticker, 'TYPE': 'open'}\n",
        "    label_close = {'TICKER' : ticker, 'TYPE': 'close'}\n",
        "    keyopen = f\"{keyprefix}:{ticker}:open\"\n",
        "    keyclose = f\"{keyprefix}:{ticker}:close\"\n",
        "\n",
        "    try:\n",
        "      redis_ts.create(keyopen, labels=label_open, duplicate_policy='LAST')\n",
        "      redis_ts.create(keyclose, labels=label_close, duplicate_policy='LAST')\n",
        "    except:\n",
        "      pass\n",
        "\n",
        "    values = df_loop.values.tolist()\n",
        "    counter = 0\n",
        "    for value in values:\n",
        "      m_date = value[0]\n",
        "      m_open = value[1]\n",
        "      m_close = value[2]\n",
        "      local_start = datetime.strptime(m_date, datetime_format)\n",
        "      timestamp = int(local_start.timestamp())\n",
        "      \n",
        "      _ = pipets.add(keyopen, timestamp, m_open) \n",
        "      _ = pipets.add(keyclose, timestamp, m_close)\n",
        "      counter += 1\n",
        "      # print(f\"Counter: {counter}\")\n",
        "result = pipets.execute()\n",
        "print(len(result))"
      ]
    },
    {
      "cell_type": "markdown",
      "metadata": {},
      "source": [
        "#### List the first and last timestamp - date format DAY/MONTH/YEAR"
      ]
    },
    {
      "cell_type": "code",
      "execution_count": null,
      "metadata": {},
      "outputs": [],
      "source": [
        "print(ts_df.iloc[0]['Date'])\n",
        "print(ts_df.iloc[len(ts_df)-1]['Date'])"
      ]
    },
    {
      "cell_type": "markdown",
      "metadata": {},
      "source": [
        "#### Set the time range and stock ticker for our search"
      ]
    },
    {
      "cell_type": "markdown",
      "metadata": {},
      "source": [
        "<img src=\"https://github.com/denisabrantesredis/denisd-redis-learning-sessions/blob/main/Search/_assets/images/callout_timeseries.png?raw=true\" alt=\"Callout - Change Time Range and Stock Ticker\"/>"
      ]
    },
    {
      "cell_type": "code",
      "execution_count": null,
      "metadata": {},
      "outputs": [],
      "source": [
        "start_time = \"2016-05-01 12:00:00-04:00\"\n",
        "end_time = \"2016-05-11 12:00:00-04:00\"\n",
        "ticker = \"AAPL\""
      ]
    },
    {
      "cell_type": "markdown",
      "metadata": {},
      "source": [
        "#### Retrieve open and close data from the selected stock ticker"
      ]
    },
    {
      "cell_type": "code",
      "execution_count": null,
      "metadata": {},
      "outputs": [],
      "source": [
        "filters = [f\"TICKER=({ticker})\"]\n",
        "start_ts = int(datetime.strptime(start_time, datetime_format).timestamp())\n",
        "end_ts = int(datetime.strptime(end_time, datetime_format).timestamp())\n",
        "results = redis_ts.mrange(from_time=start_ts, to_time=end_ts, filters=filters)\n",
        "len(results[0]['timeseries:stock:AAPL:close'][1])"
      ]
    },
    {
      "cell_type": "markdown",
      "metadata": {},
      "source": [
        "#### Adding the search results to a new DataFrame"
      ]
    },
    {
      "cell_type": "code",
      "execution_count": null,
      "metadata": {},
      "outputs": [],
      "source": [
        "open_data, close_data = [], []\n",
        "for result in results:\n",
        "  keyname = list(result.keys())[0]\n",
        "  keydata = result[keyname]\n",
        "  if 'open' in keyname:\n",
        "    for item in keydata[1]:\n",
        "      open_data.append((str(datetime.fromtimestamp(item[0]).strftime('%Y-%m-%d %H:%M:%S.%f')[:-16]), item[1]))\n",
        "  else:\n",
        "    for item in keydata[1]:\n",
        "      close_data.append((str(datetime.fromtimestamp(item[0]).strftime('%Y-%m-%d %H:%M:%S.%f')[:-16]), item[1]))\n",
        "\n",
        "df_open = pd.DataFrame(open_data, columns=['Date', 'Open'])\n",
        "df_close = pd.DataFrame(close_data, columns=['Date', 'Close'])\n",
        "df_open.head()"
      ]
    },
    {
      "cell_type": "markdown",
      "metadata": {},
      "source": [
        "#### Visualizing the search results in a timeline chart"
      ]
    },
    {
      "cell_type": "code",
      "execution_count": null,
      "metadata": {},
      "outputs": [],
      "source": [
        "plt.figure(figsize=(15, 5)) \n",
        "plt.plot(df_open['Date'], df_open['Open'], label='Open',)\n",
        "plt.plot(df_close['Date'], df_close['Close'], label='Close')\n",
        "plt.title(f\"{ticker} - Open & Close\")\n",
        "plt.xlabel(\"Date\")\n",
        "plt.ylabel(\"Value\")\n",
        "plt.legend()\n",
        "plt.show()"
      ]
    },
    {
      "cell_type": "markdown",
      "metadata": {
        "id": "2jHy0dVgsAAg"
      },
      "source": [
        "&nbsp;"
      ]
    },
    {
      "cell_type": "markdown",
      "metadata": {
        "id": "aDX0QOboqped"
      },
      "source": [
        "<img src=\"https://github.com/denisabrantesredis/denisd-redis-learning-sessions/blob/main/Search/_assets/images/callout_insight.png?raw=true\" alt=\"Callout - Check Redis Insight\"/>"
      ]
    },
    {
      "cell_type": "markdown",
      "metadata": {
        "id": "PxBu0RKZqu4t"
      },
      "source": [
        "Redis Insight will show the new time series keys, but it will not display that value (this data type is not yet supported in that UI). However, can run the same search and see the values using the **Workbench**:\n",
        "\n",
        "&nbsp;\n",
        "\n",
        "```\n",
        "    TS.MRANGE 1431345600 1462104000 WITHLABELS FILTER TICKER='AAPL'\n",
        "```\n",
        "\n",
        "&nbsp;"
      ]
    },
    {
      "cell_type": "markdown",
      "metadata": {
        "id": "__zfLJoaHa13"
      },
      "source": [
        "## Hash"
      ]
    },
    {
      "cell_type": "markdown",
      "metadata": {
        "id": "Sjpqcmh8vGFP"
      },
      "source": [
        "Redis hashes are record types structured as collections of field-value pairs. You can use hashes to represent basic objects and to store groupings of counters, among other things.\n",
        "\n",
        "In this lab, we will search through a product catalog from an e-commerce dataset."
      ]
    },
    {
      "cell_type": "code",
      "execution_count": null,
      "metadata": {
        "id": "249O38igHeb1"
      },
      "outputs": [],
      "source": [
        "from redis.commands.search.query import NumericFilter, Query\n",
        "import redis.commands.search.aggregation as aggregations\n",
        "import redis.commands.search.reducers as reducers"
      ]
    },
    {
      "cell_type": "markdown",
      "metadata": {
        "id": "hS3kewVQvR8y"
      },
      "source": [
        "\n",
        "#### Load data from CSV file"
      ]
    },
    {
      "cell_type": "code",
      "execution_count": null,
      "metadata": {
        "id": "a-n9ER0lHi12"
      },
      "outputs": [],
      "source": [
        "with open('products.json', 'r') as file:\n",
        "    ds = json.load(file)\n",
        "len(ds)"
      ]
    },
    {
      "cell_type": "markdown",
      "metadata": {
        "id": "8FKaU45iwULg"
      },
      "source": [
        "#### Save data to Redis"
      ]
    },
    {
      "cell_type": "code",
      "execution_count": null,
      "metadata": {
        "id": "wepEg9G0umFH"
      },
      "outputs": [],
      "source": [
        "for product in ds:\n",
        "  keyname = f\"product:{product['id']}\"\n",
        "  pipe.hset(keyname, mapping=product)\n",
        "results = pipe.execute()\n",
        "len(results)"
      ]
    },
    {
      "cell_type": "markdown",
      "metadata": {},
      "source": [
        "### Intermission: how to find documents without Search\n",
        "\n",
        "Redis is a key-value store, meaning you need to know the key you want to access and then Redis will either read or write the value of that key. This works well for most use cases; however, you may need to identify all keys under a certain criteria, in which case, Redis offers the `SCAN` command, that can scan through multiple keys that follow a pattern.\n",
        "\n",
        "Depending on what you are looking for, however, this can be a very time-consuming operation. For instance, let's try to use `SCAN` to count the number of Shirts in our catalog (products that have `articleType=Shirts`):"
      ]
    },
    {
      "cell_type": "code",
      "execution_count": null,
      "metadata": {},
      "outputs": [],
      "source": [
        "cursor = 0\n",
        "all_keys = []\n",
        "while True:\n",
        "    cursor, keys = r.scan(cursor=cursor, match=\"product:*\", count=100)\n",
        "    for key in keys:\n",
        "      if r.hget(key, \"articleType\") == \"Shirts\":\n",
        "        all_keys.append(key)\n",
        "    if cursor == 0:\n",
        "        break\n",
        "print(f\"Found shirt keys: {len(all_keys)}\")"
      ]
    },
    {
      "cell_type": "markdown",
      "metadata": {},
      "source": [
        "...that took way longer than it should.\n",
        "\n",
        "Back to our normal programming."
      ]
    },
    {
      "cell_type": "markdown",
      "metadata": {},
      "source": [
        "#### Create the Search Index"
      ]
    },
    {
      "cell_type": "code",
      "execution_count": null,
      "metadata": {},
      "outputs": [],
      "source": [
        "schema = (\n",
        "    TextField(\"productDisplayName\", as_name=\"productDisplayName\"),\n",
        "    TextField(\"articleType\", as_name=\"articleType\"),\n",
        "    TextField(\"articleNumber\", as_name=\"articleNumber\"),\n",
        "    TagField(\"brandName\", as_name=\"brandName\"),\n",
        "    TextField(\"variantName\", as_name=\"variantName\"),\n",
        "    TagField(\"ageGroup\", as_name=\"ageGroup\"),\n",
        "    TagField(\"gender\", as_name=\"gender\"),\n",
        "    TagField(\"fashionType\", as_name=\"fashionType\"),\n",
        "    TagField(\"season\", as_name=\"season\"),\n",
        "    TagField(\"year\", as_name=\"year\"),\n",
        "    TagField(\"masterCategory\", as_name=\"masterCategory\"),\n",
        "    TagField(\"subCategory\", as_name=\"subCategory\"),\n",
        "    TagField(\"displayCategories\", as_name=\"displayCategories\"),\n",
        "    TagField(\"baseColour\", as_name=\"baseColour\"),\n",
        "    NumericField(\"id\", as_name=\"id\"),\n",
        "    NumericField(\"price\", as_name=\"price\"),\n",
        "    NumericField(\"discountedPrice\", as_name=\"discountedPrice\"),\n",
        "    NumericField(\"catalogAddDate\", as_name=\"catalogAddDate\"),\n",
        "    NumericField(\"rating\", as_name=\"rating\"),\n",
        "    NumericField(\"discount_pct\", as_name=\"discount_pct\"),\n",
        "    NumericField(\"inventoryCount\", as_name=\"inventoryCount\")\n",
        ")\n",
        "try:\n",
        "    r.ft(\"idx:product\").dropindex()\n",
        "except:\n",
        "    print(\"--> Product index doesn't exist; creating it\")\n",
        "try:\n",
        "    definition = IndexDefinition(prefix=[\"product:\"], index_type=IndexType.HASH)\n",
        "    result = r.ft(\"idx:product\").create_index(fields=schema, definition=definition)\n",
        "except Exception as ex:\n",
        "    result = f\"FAILED to create index: {ex}\""
      ]
    },
    {
      "cell_type": "markdown",
      "metadata": {},
      "source": [
        "#### Check the index"
      ]
    },
    {
      "cell_type": "code",
      "execution_count": null,
      "metadata": {},
      "outputs": [],
      "source": [
        "info = r.ft('idx:product').info()\n",
        "print(f\" Percent Indexed: {int(info['percent_indexed'])*100}\")\n",
        "print(f\" Total Documents: {info['num_docs']}\")"
      ]
    },
    {
      "cell_type": "markdown",
      "metadata": {},
      "source": [
        "#### Before we Start - Count the number of Shirts using Redis Search"
      ]
    },
    {
      "cell_type": "code",
      "execution_count": null,
      "metadata": {},
      "outputs": [],
      "source": [
        "req = aggregations.AggregateRequest(\"@articleType:(Shirts)\"\n",
        "                    ).group_by([], reducers.count().alias(\"total_count\"))\n",
        "\n",
        "r.ft(\"idx:product\").aggregate(req).rows"
      ]
    },
    {
      "cell_type": "markdown",
      "metadata": {},
      "source": [
        "#### Start Simple - Search for Nike Women Shoes"
      ]
    },
    {
      "cell_type": "markdown",
      "metadata": {},
      "source": [
        "<img src=\"https://github.com/denisabrantesredis/denisd-redis-learning-sessions/blob/main/Search/_assets/images/callout_hsearch.png?raw=true\" alt=\"Callout - Change Hash Search Terms\"/>"
      ]
    },
    {
      "cell_type": "code",
      "execution_count": null,
      "metadata": {},
      "outputs": [],
      "source": [
        "search_query = \"Nike Women Shoe\""
      ]
    },
    {
      "cell_type": "markdown",
      "metadata": {},
      "source": [
        "#### Run Search with Pagination\n",
        "\n",
        "It's possible to limit the number of results using an offset. This allows queries to paginate through results, providing better performance."
      ]
    },
    {
      "cell_type": "code",
      "execution_count": null,
      "metadata": {},
      "outputs": [],
      "source": [
        "query = Query(f'@productDisplayName:{search_query}'\n",
        "                ).sort_by('id', asc=True\n",
        "                ).return_fields('productDisplayName', 'price', 'id'\n",
        "                ).paging(0,10)\n",
        "\n",
        "r.ft(\"idx:product\").search(query).docs"
      ]
    },
    {
      "cell_type": "code",
      "execution_count": null,
      "metadata": {},
      "outputs": [],
      "source": [
        "query = Query(f'@productDisplayName:{search_query}'\n",
        "                ).sort_by('id', asc=True\n",
        "                ).return_fields('productDisplayName', 'price', 'id'\n",
        "                ).paging(10,10)\n",
        "\n",
        "r.ft(\"idx:product\").search(query).docs"
      ]
    },
    {
      "cell_type": "markdown",
      "metadata": {},
      "source": [
        "#### Search using words out of order\n",
        "\n",
        "We will test if Redis is able to find results, even if words are out of order. Products in the catalog are usually named 'Men [...] blue jeans'; we will test if a query like \"jeans blue men\" yields any results."
      ]
    },
    {
      "cell_type": "code",
      "execution_count": null,
      "metadata": {},
      "outputs": [],
      "source": [
        "search_query = \"jeans blue men\""
      ]
    },
    {
      "cell_type": "code",
      "execution_count": null,
      "metadata": {},
      "outputs": [],
      "source": [
        "query = Query(f'@productDisplayName:{search_query}'\n",
        "                ).sort_by('id', asc=True\n",
        "                ).return_fields('productDisplayName', 'price', 'id'\n",
        "                ).paging(0,10)\n",
        "\n",
        "r.ft(\"idx:product\").search(query).docs"
      ]
    },
    {
      "cell_type": "markdown",
      "metadata": {},
      "source": [
        "#### Search for White or Black shoes between \\$100 and $200"
      ]
    },
    {
      "cell_type": "code",
      "execution_count": null,
      "metadata": {},
      "outputs": [],
      "source": [
        "query = Query('@articleType:(Shoes) @baseColour:{White|Black} @discountedPrice:[100 200]'\n",
        "                ).return_fields('productDisplayName', 'discountedPrice', 'baseColour', 'id')\n",
        "\n",
        "r.ft(\"idx:product\").search(query).docs"
      ]
    },
    {
      "cell_type": "markdown",
      "metadata": {},
      "source": [
        "#### Search for Shirts that are not Blue or Black"
      ]
    },
    {
      "cell_type": "code",
      "execution_count": null,
      "metadata": {},
      "outputs": [],
      "source": [
        "query = Query('@articleType:(Shirts) -@baseColour:{Blue|Black}'\n",
        "                ).return_fields('productDisplayName', 'discountedPrice', 'baseColour', 'id')\n",
        "\n",
        "r.ft(\"idx:product\").search(query).docs"
      ]
    },
    {
      "cell_type": "markdown",
      "metadata": {},
      "source": [
        "#### List the Top 5 discounted products"
      ]
    },
    {
      "cell_type": "code",
      "execution_count": null,
      "metadata": {},
      "outputs": [],
      "source": [
        "query = Query('*'\n",
        "                ).sort_by('discount_pct', asc=False\n",
        "                ).return_fields('productDisplayName', 'discountedPrice', 'discount_pct', 'articleType', 'id'\n",
        "                ).paging(0,5)\n",
        "\n",
        "r.ft(\"idx:product\").search(query).docs"
      ]
    },
    {
      "cell_type": "markdown",
      "metadata": {},
      "source": [
        "#### List the Top 10 most expensive shoes"
      ]
    },
    {
      "cell_type": "code",
      "execution_count": null,
      "metadata": {},
      "outputs": [],
      "source": [
        "query = Query('@articleType:(Shoes)'\n",
        "                ).sort_by('discountedPrice', asc=False\n",
        "                ).return_fields('productDisplayName', 'discountedPrice', 'discount_pct', 'articleType', 'id'\n",
        "                ).paging(0,10)\n",
        "\n",
        "r.ft(\"idx:product\").search(query).docs"
      ]
    },
    {
      "cell_type": "markdown",
      "metadata": {},
      "source": [
        "#### Fuzzy Search\n",
        "\n",
        "A fuzzy search allows you to find documents with words that approximately match your search term. To perform a fuzzy search, you wrap search terms with pairs of % characters. A single pair represents a ([**Levenshtein**](https://en.wikipedia.org/wiki/Levenshtein_distance)) distance of one, two pairs represent a distance of two, and three pairs, the maximum distance, represents a distance of three.\n",
        "\n",
        "For instance, in this case, we will search for ***addidas*** shoes. First, let's try the standard search, which should return an empty list."
      ]
    },
    {
      "cell_type": "code",
      "execution_count": null,
      "metadata": {},
      "outputs": [],
      "source": [
        "query = Query('@productDisplayName:(addidas)'\n",
        "                ).sort_by('id', asc=True\n",
        "                ).return_fields('productDisplayName', 'articleType', 'id', 'brandName'\n",
        "                ).paging(0,10)\n",
        "\n",
        "r.ft(\"idx:product\").search(query).docs"
      ]
    },
    {
      "cell_type": "markdown",
      "metadata": {},
      "source": [
        "Now let's try a search using the % character."
      ]
    },
    {
      "cell_type": "code",
      "execution_count": null,
      "metadata": {},
      "outputs": [],
      "source": [
        "query = Query('@productDisplayName:(%addidas%)'\n",
        "                ).sort_by('id', asc=True\n",
        "                ).return_fields('productDisplayName', 'articleType', 'id', 'brandName'\n",
        "                ).paging(0,10)\n",
        "\n",
        "r.ft(\"idx:product\").search(query).docs"
      ]
    },
    {
      "cell_type": "markdown",
      "metadata": {},
      "source": [
        "Success! However, if we make our search term worse (***addidaz***), a single Levenshtein distance will not be enough to find it:"
      ]
    },
    {
      "cell_type": "code",
      "execution_count": null,
      "metadata": {},
      "outputs": [],
      "source": [
        "query = Query('@productDisplayName:(%addidaz%)'\n",
        "                ).sort_by('id', asc=True\n",
        "                ).return_fields('productDisplayName', 'articleType', 'id'\n",
        "                ).paging(0,10)\n",
        "\n",
        "r.ft(\"idx:product\").search(query).docs"
      ]
    },
    {
      "cell_type": "markdown",
      "metadata": {},
      "source": [
        "In this case, using 2 % characters should do the trick:"
      ]
    },
    {
      "cell_type": "code",
      "execution_count": null,
      "metadata": {},
      "outputs": [],
      "source": [
        "query = Query('@productDisplayName:(%%addidaz%%)'\n",
        "                ).sort_by('id', asc=True\n",
        "                ).return_fields('productDisplayName', 'articleType', 'id'\n",
        "                ).paging(0,10)\n",
        "\n",
        "r.ft(\"idx:product\").search(query).docs"
      ]
    },
    {
      "cell_type": "markdown",
      "metadata": {},
      "source": [
        "#### Spellcheck\n",
        "\n",
        "Finally, we can use the Spellcheck function to suggest the right term."
      ]
    },
    {
      "cell_type": "code",
      "execution_count": null,
      "metadata": {},
      "outputs": [],
      "source": [
        "r.ft('idx:product').spellcheck('addidas')"
      ]
    },
    {
      "cell_type": "markdown",
      "metadata": {
        "id": "KZUaPXegyFyx"
      },
      "source": [
        "&nbsp;"
      ]
    },
    {
      "cell_type": "markdown",
      "metadata": {
        "id": "UALXxSxHHugw"
      },
      "source": [
        "## JSON"
      ]
    },
    {
      "cell_type": "markdown",
      "metadata": {
        "id": "qC3h0h55yKKJ"
      },
      "source": [
        "The JSON capability of Redis Open Source provides JavaScript Object Notation (JSON) support for Redis. It lets you store, update, and retrieve JSON values in a Redis database, similar to any other Redis data type. Redis JSON also works seamlessly with the Redis Query Engine to let you index and query JSON documents.\n",
        "\n",
        "In this lab, we will use the same product data that we used for the Hash searches."
      ]
    },
    {
      "cell_type": "code",
      "execution_count": null,
      "metadata": {
        "id": "sAMSsoWgHw2u"
      },
      "outputs": [],
      "source": [
        "import os\n",
        "import json\n",
        "import pandas as pd\n",
        "import numpy as np"
      ]
    },
    {
      "cell_type": "markdown",
      "metadata": {},
      "source": [
        "#### Load dataframe from file"
      ]
    },
    {
      "cell_type": "code",
      "execution_count": null,
      "metadata": {
        "id": "NDNxn4XlIc6T"
      },
      "outputs": [],
      "source": [
        "prod_df = pd.read_pickle('prodjson.pkl')\n",
        "print(len(prod_df))\n",
        "prod_df.head()"
      ]
    },
    {
      "cell_type": "markdown",
      "metadata": {
        "id": "dazMdtlQIi6Z"
      },
      "source": [
        "#### Save JSON data to Redis"
      ]
    },
    {
      "cell_type": "code",
      "execution_count": null,
      "metadata": {
        "id": "vptTC1f8Imo7"
      },
      "outputs": [],
      "source": [
        "for index, product in prod_df.iterrows():\n",
        "  keyname = f\"jsonprod:{product['id']}\"\n",
        "  pipe.json().set(keyname, \"$\", product.to_dict())\n",
        "results = pipe.execute()\n",
        "len(results)"
      ]
    },
    {
      "cell_type": "markdown",
      "metadata": {
        "id": "ZnQaXkij0GsC"
      },
      "source": [
        "Create Search index. We will configure some fields to be searchable even if they are missing or have empty values."
      ]
    },
    {
      "cell_type": "code",
      "execution_count": null,
      "metadata": {
        "id": "EJ0cxZ3AIpax"
      },
      "outputs": [],
      "source": [
        "schema = (\n",
        "    NumericField(\"$.id\", as_name=\"id\", sortable=True),\n",
        "    NumericField(\"$.price\", as_name=\"price\"),\n",
        "    NumericField(\"$.discountedPrice\", as_name=\"discountedPrice\"),\n",
        "    TextField(\"$.articleNumber\", as_name=\"articleNumber\"),\n",
        "    TextField(\"$.productDisplayName\", as_name=\"productDisplayName\"),\n",
        "    TextField(\"$.productDescription\", as_name=\"productDescription\", index_missing=True, index_empty=True),\n",
        "    TextField(\"$.variantName\", as_name=\"variantName\"),\n",
        "    NumericField(\"$.catalogAddDate\", as_name=\"catalogAddDate\"),\n",
        "    TagField(\"$.brandName\", as_name=\"brandName\"),\n",
        "    TagField(\"$.ageGroup\", as_name=\"ageGroup\"),\n",
        "    TagField(\"$.gender\", as_name=\"gender\"),\n",
        "    TagField(\"$.baseColour\", as_name=\"baseColour\"),\n",
        "    TagField(\"$.fashionType\", as_name=\"fashionType\"),\n",
        "    TagField(\"$.season\", as_name=\"season\"),\n",
        "    TagField(\"$.year\", as_name=\"year\"),\n",
        "    NumericField(\"$.rating\", as_name=\"rating\"),    \n",
        "    TagField(\"$.displayCategories\", as_name=\"displayCategories\"),\n",
        "    TagField(\"$.masterCategory\", as_name=\"masterCategory\"),\n",
        "    TagField(\"$.subCategory\", as_name=\"subCategory\"),\n",
        "    TextField(\"$.articleType\", as_name=\"articleType\"),\n",
        "    NumericField(\"$.discount_pct\", as_name=\"discount_pct\"),\n",
        "    NumericField(\"$.inventoryCount\", as_name=\"inventoryCount\", index_missing=True)\n",
        ")\n",
        "try:\n",
        "    r.ft(\"idx:jsonprod\").dropindex()\n",
        "except:\n",
        "    print(\"--> JSONProd index doesn't exist; creating it\")\n",
        "try:\n",
        "  definition = IndexDefinition(prefix=[\"jsonprod:\"], index_type=IndexType.JSON)\n",
        "  result = r.ft(\"idx:jsonprod\").create_index(fields=schema, definition=definition)\n",
        "except Exception as ex:\n",
        "    result = f\"FAILED to create index: {ex}\""
      ]
    },
    {
      "cell_type": "markdown",
      "metadata": {
        "id": "8wyvpWAdIscB"
      },
      "source": [
        "#### Check status of the index"
      ]
    },
    {
      "cell_type": "code",
      "execution_count": null,
      "metadata": {
        "id": "3HJjxxOcIuGy"
      },
      "outputs": [],
      "source": [
        "info = r.ft('idx:jsonprod').info()\n",
        "print(f\" Percent Indexed: {int(info['percent_indexed'])*100}\")\n",
        "print(f\" Total Documents: {info['num_docs']}\")"
      ]
    },
    {
      "cell_type": "markdown",
      "metadata": {
        "id": "7FtObK5_Iwmq"
      },
      "source": [
        "### Aggregation Queries\n",
        "\n",
        "An aggregation query allows you to perform the following actions:\n",
        "\n",
        "- Apply simple mapping functions.\n",
        "- Group data based on field values.\n",
        "- Apply aggregation functions on the grouped data."
      ]
    },
    {
      "cell_type": "markdown",
      "metadata": {
        "id": "hQjHLVPk5tL7"
      },
      "source": [
        "#### Count products by category"
      ]
    },
    {
      "cell_type": "code",
      "execution_count": null,
      "metadata": {
        "id": "1QpDbPJCIzGE"
      },
      "outputs": [],
      "source": [
        "req = aggregations.AggregateRequest(\"*\"\n",
        "            ).group_by([\"@articleType\"], reducers.count().alias(\"total_units\")\n",
        "            ).sort_by(reducers.Desc('@total_units')\n",
        "            ).limit(0,20)\n",
        "\n",
        "r.ft(\"idx:jsonprod\").aggregate(req).rows"
      ]
    },
    {
      "cell_type": "markdown",
      "metadata": {
        "id": "vZjMFpOF1AOY"
      },
      "source": [
        "<img src=\"https://github.com/denisabrantesredis/denisd-redis-learning-sessions/blob/main/Search/_assets/images/callout_insight.png?raw=true\" alt=\"Callout - Check Redis Insight\"/>"
      ]
    },
    {
      "cell_type": "markdown",
      "metadata": {},
      "source": [
        "Check Redis Insight and take a look at the JSON data. You can also run the query above in the ***Workbench*** using this command:\n",
        "\n",
        "&nbsp;\n",
        "```\n",
        "    FT.AGGREGATE idx:jsonprod \"*\"\n",
        "        GROUPBY 1 @articleType\n",
        "        REDUCE COUNT 0 AS \"total_units\"\n",
        "        SORTBY 2 @total_units DESC\n",
        "        LIMIT 0 20\n",
        "```\n",
        "&nbsp;"
      ]
    },
    {
      "cell_type": "markdown",
      "metadata": {},
      "source": [
        "#### Count how many blue shirts"
      ]
    },
    {
      "cell_type": "code",
      "execution_count": null,
      "metadata": {
        "id": "DeCGJit20POh"
      },
      "outputs": [],
      "source": [
        "req = aggregations.AggregateRequest(\"@baseColour:{Blue} @articleType:(Shirts)\"\n",
        "            ).group_by([], reducers.count().alias(\"count\"))\n",
        "\n",
        "r.ft(\"idx:jsonprod\").aggregate(req).rows"
      ]
    },
    {
      "cell_type": "markdown",
      "metadata": {},
      "source": [
        "#### Find the average discount for Jeans"
      ]
    },
    {
      "cell_type": "code",
      "execution_count": null,
      "metadata": {},
      "outputs": [],
      "source": [
        "req = aggregations.AggregateRequest(\"@articleType:(Jeans)\"\n",
        "                ).group_by([], reducers.avg(\"@discount_pct\").alias(\"avg_discount\"))\n",
        "\n",
        "r.ft(\"idx:jsonprod\").aggregate(req).rows"
      ]
    },
    {
      "cell_type": "markdown",
      "metadata": {},
      "source": [
        "#### Count the number of dresses that are cheaper than the average cost"
      ]
    },
    {
      "cell_type": "code",
      "execution_count": null,
      "metadata": {},
      "outputs": [],
      "source": [
        "# Step 1 - Get average dress price\n",
        "req = aggregations.AggregateRequest(\"@articleType:Dress\"\n",
        "            ).group_by([], reducers.avg(\"@price\").alias(\"avgPrice\"))\n",
        "\n",
        "result = r.ft(\"idx:jsonprod\").aggregate(req).rows\n",
        "avg = float(result[0][1])\n",
        "\n",
        "# Step 2 - Count Dresses under this value\n",
        "req = aggregations.AggregateRequest(f\"@articleType:Dress @price:[0 {avg}]\"\n",
        "            ).group_by([], reducers.count().alias(\"count\"))\n",
        "\n",
        "r.ft(\"idx:jsonprod\").aggregate(req).rows"
      ]
    },
    {
      "cell_type": "markdown",
      "metadata": {},
      "source": [
        "#### Find which products are missing the 'Description' attribute"
      ]
    },
    {
      "cell_type": "code",
      "execution_count": null,
      "metadata": {},
      "outputs": [],
      "source": [
        "query = Query('(ismissing(@productDescription))'\n",
        "            ).return_fields('productDisplayName', 'productDescription', 'articleType', 'id'\n",
        "            ).paging(0,10)\n",
        "\n",
        "r.ft(\"idx:jsonprod\").search(query).docs"
      ]
    },
    {
      "cell_type": "markdown",
      "metadata": {},
      "source": [
        "List the description of 2 products"
      ]
    },
    {
      "cell_type": "code",
      "execution_count": null,
      "metadata": {},
      "outputs": [],
      "source": [
        "print(f\"--> Product ID 11653: {r.json().get('jsonprod:11653', '$.productDescription')}\")\n",
        "print(f\"--> Product ID 12032: {r.json().get('jsonprod:12032', '$.productDescription')}\")"
      ]
    },
    {
      "cell_type": "markdown",
      "metadata": {},
      "source": [
        "Delete the description from both products"
      ]
    },
    {
      "cell_type": "code",
      "execution_count": null,
      "metadata": {},
      "outputs": [],
      "source": [
        "r.json().delete('jsonprod:11653', '$.productDescription')\n",
        "r.json().delete('jsonprod:12032', '$.productDescription')"
      ]
    },
    {
      "cell_type": "markdown",
      "metadata": {},
      "source": [
        "Run the query again"
      ]
    },
    {
      "cell_type": "code",
      "execution_count": null,
      "metadata": {},
      "outputs": [],
      "source": [
        "query = Query('(ismissing(@productDescription))'\n",
        "            ).return_fields('productDisplayName', 'productDescription', 'articleType', 'id'\n",
        "            ).paging(0,10)\n",
        "\n",
        "r.ft(\"idx:jsonprod\").search(query).docs"
      ]
    },
    {
      "cell_type": "markdown",
      "metadata": {},
      "source": [
        "#### Synonyms\n",
        "\n",
        "Redis supports synonyms, which allows searching for synonym words defined by the synonym data structure. The synonym data structure is a set of groups, each of which contains synonym terms.\n",
        "\n",
        "Let's run a quick test and search for pants."
      ]
    },
    {
      "cell_type": "code",
      "execution_count": null,
      "metadata": {},
      "outputs": [],
      "source": [
        "query = Query(f'@productDisplayName:(pants)'\n",
        "            ).sort_by('id', asc=True\n",
        "            ).return_fields('productDisplayName', 'price', 'id'\n",
        "            ).paging(0,10)\n",
        "\n",
        "r.ft(\"idx:jsonprod\").search(query).docs"
      ]
    },
    {
      "cell_type": "markdown",
      "metadata": {},
      "source": [
        "#### Create a synonym for pants"
      ]
    },
    {
      "cell_type": "code",
      "execution_count": null,
      "metadata": {},
      "outputs": [],
      "source": [
        "r.ft(\"idx:jsonprod\").synupdate(\"synonym\", False, \"pants\", \"jeans\")"
      ]
    },
    {
      "cell_type": "markdown",
      "metadata": {},
      "source": [
        "Try the search again"
      ]
    },
    {
      "cell_type": "code",
      "execution_count": null,
      "metadata": {},
      "outputs": [],
      "source": [
        "query = Query(f'@productDisplayName:(pants)'\n",
        "            ).sort_by('id', asc=True\n",
        "            ).return_fields('productDisplayName', 'price', 'id'\n",
        "            ).paging(0,10)\n",
        "\n",
        "r.ft(\"idx:jsonprod\").search(query).docs"
      ]
    },
    {
      "cell_type": "markdown",
      "metadata": {},
      "source": [
        "### Summarization\n",
        "\n",
        "Summarization will fragment the text into smaller sized snippets, each of which containing the found term(s) and some additional surrounding context.\n",
        "To be clear, this is not AI-Generated summary, it's just the original attribute value truncated around the search term.\n",
        "\n",
        "Let's search for products that contain the word 'sleek' in the description."
      ]
    },
    {
      "cell_type": "code",
      "execution_count": null,
      "metadata": {},
      "outputs": [],
      "source": [
        "query = Query(f'@productDescription:(sleek)'\n",
        "            ).sort_by('id', asc=True\n",
        "            ).return_fields('productDisplayName', 'productDescription', 'id'\n",
        "            ).paging(0,2)\n",
        "\n",
        "r.ft(\"idx:jsonprod\").search(query).docs"
      ]
    },
    {
      "cell_type": "markdown",
      "metadata": {},
      "source": [
        "Long product descriptions make it harder to find the word we're looking for. Let's create a summarized version of the description."
      ]
    },
    {
      "cell_type": "code",
      "execution_count": null,
      "metadata": {},
      "outputs": [],
      "source": [
        "query = Query(f'@productDescription:(sleek)'\n",
        "            ).sort_by('id', asc=True\n",
        "            ).return_fields('productDisplayName', 'productDescription', 'id'\n",
        "            ).summarize([\"productDescription\"], context_len=30\n",
        "            ).paging(0,2)\n",
        "\n",
        "r.ft(\"idx:jsonprod\").search(query).docs"
      ]
    },
    {
      "cell_type": "markdown",
      "metadata": {},
      "source": [
        "### Highlighting\n",
        "\n",
        "Highlighting will surround the found term (and its variants) with a user-defined pair of tags. This may be used to display the matched text in a different typeface using a markup language, or to otherwise make the text appear differently.\n",
        "\n",
        "Let's highlight our 'sleek' search term in the results. We will also use the summary function to make it easier to find in the results."
      ]
    },
    {
      "cell_type": "code",
      "execution_count": null,
      "metadata": {},
      "outputs": [],
      "source": [
        "query = Query(f'@productDescription:(sleek)'\n",
        "            ).sort_by('id', asc=True\n",
        "            ).return_fields('productDisplayName', 'productDescription', 'id'\n",
        "            ).summarize([\"productDescription\"], context_len=30\n",
        "            ).highlight([\"productDescription\"], tags=[\"<<<\", \">>>\"]\n",
        "            ).paging(0,2)\n",
        "r.ft(\"idx:jsonprod\").search(query).docs"
      ]
    },
    {
      "cell_type": "markdown",
      "metadata": {},
      "source": [
        "### Scoring\n",
        "\n",
        "When searching, documents are scored based on their relevance to the query. The score is a floating point number between 0.0 and 1.0, where 1.0 is the highest score. The score is returned as part of the search results and can be used to sort the results.\n",
        "\n",
        "Redis comes with a few scoring functions to evaluate document relevance. They are based on document scores and term frequency. This is regardless of the ability to use sortable fields.\n",
        "\n",
        "For instance, let's compare how different scoring functions handle a search for Men's shoes that have the word 'grip' in the description:"
      ]
    },
    {
      "cell_type": "markdown",
      "metadata": {},
      "source": [
        "#### BM25 (the default)"
      ]
    },
    {
      "cell_type": "code",
      "execution_count": null,
      "metadata": {},
      "outputs": [],
      "source": [
        "query = Query('@productDescription:(grip) @articleType:(Shoes) @gender:{Men}'\n",
        "                    ).scorer(\"BM25\"\n",
        "                    ).with_scores(\n",
        "                    ).return_fields('id', 'productDisplayName'\n",
        "                    ).paging(0,10)\n",
        "\n",
        "r.ft(\"idx:jsonprod\").search(query).docs"
      ]
    },
    {
      "cell_type": "markdown",
      "metadata": {},
      "source": [
        "#### TFIDF"
      ]
    },
    {
      "cell_type": "code",
      "execution_count": null,
      "metadata": {},
      "outputs": [],
      "source": [
        "query = Query('@productDescription:(grip) @articleType:(Shoes) @gender:{Men}'\n",
        "                    ).scorer(\"TFIDF\"\n",
        "                    ).with_scores(\n",
        "                    ).return_fields('id', 'productDisplayName'\n",
        "                    ).paging(0,10)\n",
        "\n",
        "r.ft(\"idx:jsonprod\").search(query).docs\n",
        "\n",
        "results = r.ft(\"idx:jsonprod\").search(query).docs\n",
        "for result in results:\n",
        "  print(result)"
      ]
    },
    {
      "cell_type": "markdown",
      "metadata": {},
      "source": [
        "#### TFIDF.DOCNORM"
      ]
    },
    {
      "cell_type": "code",
      "execution_count": null,
      "metadata": {},
      "outputs": [],
      "source": [
        "query = Query('@productDescription:(grip) @articleType:(Shoes) @gender:{Men}'\n",
        "                    ).scorer(\"TFIDF.DOCNORM\"\n",
        "                    ).with_scores(\n",
        "                    ).return_fields('id', 'productDisplayName'\n",
        "                    ).paging(0,10)\n",
        "\n",
        "r.ft(\"idx:jsonprod\").search(query).docs\n",
        "\n",
        "results = r.ft(\"idx:jsonprod\").search(query).docs\n",
        "for result in results:\n",
        "  print(result)"
      ]
    },
    {
      "cell_type": "markdown",
      "metadata": {},
      "source": [
        "#### BM25STD"
      ]
    },
    {
      "cell_type": "code",
      "execution_count": null,
      "metadata": {},
      "outputs": [],
      "source": [
        "query = Query('@productDescription:(grip) @articleType:(Shoes) @gender:{Men}'\n",
        "                    ).scorer(\"BM25STD\"\n",
        "                    ).with_scores(\n",
        "                    ).return_fields('id', 'productDisplayName'\n",
        "                    ).paging(0,10)\n",
        "r.ft(\"idx:jsonprod\").search(query).docs\n",
        "\n",
        "results = r.ft(\"idx:jsonprod\").search(query).docs\n",
        "for result in results:\n",
        "  print(result)"
      ]
    },
    {
      "cell_type": "markdown",
      "metadata": {},
      "source": [
        "### Influencing the importance of certain values\n",
        "\n",
        "It's possible to assign higher relevancy to query parameters. For instance, let's search for Nike or Adidas shoes:"
      ]
    },
    {
      "cell_type": "code",
      "execution_count": null,
      "metadata": {},
      "outputs": [],
      "source": [
        "query = Query('@productDescription:(shoe) @brandName:{Nike|Adidas}'\n",
        "            ).scorer(\"TFIDF\"\n",
        "            ).with_scores( \n",
        "            ).return_fields('id', 'productDisplayName'\n",
        "            ).paging(0,10)\n",
        "            \n",
        "results = r.ft(\"idx:jsonprod\").search(query).docs\n",
        "for result in results:\n",
        "  print(result)"
      ]
    },
    {
      "cell_type": "markdown",
      "metadata": {},
      "source": [
        "As we can see, all results are from Nike shoes. Now let's boost the importance of documents where the brand is Nike:"
      ]
    },
    {
      "cell_type": "code",
      "execution_count": null,
      "metadata": {},
      "outputs": [],
      "source": [
        "req = aggregations.AggregateRequest('@productDescription:(shoe) @brandName:{Nike|Adidas}'\n",
        "            ).scorer(\"TFIDF\"\n",
        "            ).add_scores(\n",
        "            ).load('hybrid_score', 'final_score', 'productDisplayName', 'brandName'\n",
        "            ).apply(hybrid_score=\"(@brandName == 'Nike')*5\"\n",
        "            ).apply(final_score=\"@__score*@hybrid_score\"\n",
        "            ).sort_by(reducers.Desc('@final_score'))\n",
        "            \n",
        "results = r.ft(\"idx:jsonprod\").aggregate(req).rows\n",
        "for result in results:\n",
        "  print(result)"
      ]
    },
    {
      "cell_type": "markdown",
      "metadata": {
        "id": "KX9qkKbB526_"
      },
      "source": [
        "&nbsp;"
      ]
    },
    {
      "cell_type": "markdown",
      "metadata": {
        "id": "MPVB6DDX_1LG"
      },
      "source": [
        "&nbsp;"
      ]
    },
    {
      "cell_type": "markdown",
      "metadata": {
        "id": "lAVzG-35N0JI"
      },
      "source": [
        "&nbsp;\n",
        "\n",
        "\n",
        "&nbsp;\n",
        "\n"
      ]
    },
    {
      "cell_type": "markdown",
      "metadata": {
        "id": "4G4eIa8hN2T9"
      },
      "source": [
        "# Congrats, this is the end of the lab!!"
      ]
    }
  ],
  "metadata": {
    "colab": {
      "provenance": []
    },
    "kernelspec": {
      "display_name": "Python 3",
      "name": "python3"
    },
    "language_info": {
      "name": "python"
    }
  },
  "nbformat": 4,
  "nbformat_minor": 0
}
